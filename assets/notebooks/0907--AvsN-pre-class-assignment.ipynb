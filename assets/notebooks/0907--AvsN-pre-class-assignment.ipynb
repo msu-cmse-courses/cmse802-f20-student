{
 "cells": [
  {
   "cell_type": "markdown",
   "metadata": {},
   "source": [
    "In order to successfully complete this assignment you must do the required reading, watch the provided videos and complete all instructions.  The embedded survey form must be entirely filled out and submitted on or before **11:59pm on Monday September 7**.  Students must come to class the next day prepared to discuss the material covered in this assignment. answer"
   ]
  },
  {
   "cell_type": "markdown",
   "metadata": {},
   "source": [
    "# Pre-Class Assignment: Analytical and Numerical Solutions\n",
    "\n",
    "\n",
    "Numerical analysis is the study of algorithms that use numerical approximation as opposed to analytical solutions which use symbolic manipulations. In this pre-class assignment we will review numerical and analytical solutions to basic calculus problems."
   ]
  },
  {
   "cell_type": "markdown",
   "metadata": {
    "slideshow": {
     "slide_type": "-"
    }
   },
   "source": [
    "## Goals for today's pre-class assignment \n",
    "\n",
    "</p>\n",
    "\n",
    "1. [Command Line Interfaces](#Command_Line_Interfaces)\n",
    "1. [Introduction to Git](#Introduction_to_Git)\n",
    "1. [Derivative](#Derivatives)\n",
    "2. [Integrals](#Integrals)\n",
    "4. [Assignment wrap-up](#Assignment_wrap-up)\n"
   ]
  },
  {
   "cell_type": "markdown",
   "metadata": {},
   "source": [
    "---\n",
    "<a name=\"Command_Line_Interfaces\"></a>\n",
    "# 1. Command Line Interfaces\n",
    "\n",
    "We will be using command line tools quite a bit in this course.  The following video may be of help if you are new to these types of tools.  This is a longer video so feel free to skip or speed up if you are already familar with these methods.\n"
   ]
  },
  {
   "cell_type": "code",
   "execution_count": null,
   "metadata": {},
   "outputs": [],
   "source": [
    "from IPython.display import YouTubeVideo\n",
    "YouTubeVideo(\"dhuZdzSblD4\",width=640,height=360, cc_load_policy=True)"
   ]
  },
  {
   "cell_type": "markdown",
   "metadata": {},
   "source": [
    "----\n",
    "<a name=\"Introduction_to_Git\"></a>\n",
    "# 2. Introduction to Git\n",
    "\n",
    "**Git is probably the standard of version control in software industry and academia. The most popular Git site is Github.**\n",
    "\n",
    "We are going to use GitLab (MSU's version of GitHub) as a platform for learning Git. GitLab is a place for storing code repositories and doing version control using Git. These resources are \"on the cloud\" meaning that anyone with an internet connection and the right access credentials can see the websites.\n",
    "\n",
    "Of course, in order to use GitLab, you need to understand how to use Git.  Turns out Git is a powerful yet extreamly complex tool and not something easily taught.  Watch the video below for an Introduction to Git.  "
   ]
  },
  {
   "cell_type": "code",
   "execution_count": null,
   "metadata": {},
   "outputs": [],
   "source": [
    "# Introduction to Git https://www.youtube.com/playlist?list=PLqPfbT7gwVP_AlE6HeDQUJsG4nUbGyeh3\n",
    "\n",
    "from IPython.display import YouTubeVideo\n",
    "YouTubeVideo(\"HuQFjov9CQI\",width=576,height=360, cc_load_policy=True)"
   ]
  },
  {
   "cell_type": "markdown",
   "metadata": {},
   "source": [
    "&#9989; **<font color=red>DO THIS :</font>**  Create your GitLab account. \n",
    "\n",
    "Go to the [gitlab website](https://gitlab.msu.edu) and log in using your MSU NetID and password. Once you log in, a GitLab account will be automatically created for you. When you log in, it may ask you to created a password for accessing repositories via HTTPS, you should do this for the purposes of being able to push and pull repositories."
   ]
  },
  {
   "cell_type": "markdown",
   "metadata": {},
   "source": [
    "\n",
    "&#9989; **<font color=red>DO THIS:</font>** Install the Git command on your computer.\n",
    "\n",
    "If you are using a Mac (or linux), you are lucky. You don't need to install Git because it comes by default. \n",
    "\n",
    "If you are using a PC, there may or may not be Git commands installed in your PC. You can type git help on command line window to see whether your PC respond to the command. \n",
    "\n",
    "If you don't have Git on your PC. You will need to download and install it. You may need to do some google search for how to do it. The link below leads to the website for downloading Git.\n",
    "\n",
    "https://git-scm.com/downloads\n",
    "\n",
    "\n",
    "Another option on any computer is to use the Conda install command to install git.  Assuming you have Anaconda Python installed you should be able to run the following command:\n",
    "\n",
    "    conda install git"
   ]
  },
  {
   "cell_type": "markdown",
   "metadata": {},
   "source": [
    "Once you have git installed you can download a folder of files (called a repository) if you have the RUL for the repository and the following command:\n",
    "    \n",
    "    git clone URL\n",
    "\n",
    "The following video explains the cloning process:"
   ]
  },
  {
   "cell_type": "code",
   "execution_count": null,
   "metadata": {},
   "outputs": [],
   "source": [
    "# Git clone https://www.youtube.com/playlist?list=PLqPfbT7gwVP_AlE6HeDQUJsG4nUbGyeh3\n",
    "from IPython.display import YouTubeVideo\n",
    "YouTubeVideo(\"sNcxGBk2W78\",width=576,height=360, cc_load_policy=True)"
   ]
  },
  {
   "cell_type": "markdown",
   "metadata": {},
   "source": [
    "\n",
    "&#9989; **<font color=red>DO THIS:</font>** Clone the course Git repository\n",
    "\n",
    "Assuming you got your gitlab account set-up AND you got the SSH keys working (this can be tricy the first time) then you should be able to clone the course git repository using the following command:\n",
    "\n",
    "\n",
    "```git clone https://gitlab.msu.edu/cmse802-f20/cmse802-f20```\n",
    "\n",
    "\n",
    "**_Note:_** I realize the above instructions may not be complete.  I expect that you will use your favorite search engine to figure out the solution.  There are a lot of videos on-line.  Worst case, you can come to class and we can help you figure it out there. \n",
    "\n",
    "\n",
    "**_Also Note_** If you did get the above repository to clone properly there should be a copy of this notebook in the repository.  I recommend switching to that notebook.  For the remainder of the course we will be using the git repository and NOT using D2L."
   ]
  },
  {
   "cell_type": "markdown",
   "metadata": {},
   "source": [
    "During class tomorrow we will likly ask you to update your repository with the latest changes.  To update your repository with the latest changes from the instructor you will need to do a ```git pull``` command.  This command is used to \"pull in\" new changes. Watch the following video about ```git pull``` and if there is time, we will practice it in class.  "
   ]
  },
  {
   "cell_type": "code",
   "execution_count": null,
   "metadata": {},
   "outputs": [],
   "source": [
    "# Git pull  https://www.youtube.com/playlist?list=PLqPfbT7gwVP_AlE6HeDQUJsG4nUbGyeh3\n",
    "from IPython.display import YouTubeVideo\n",
    "YouTubeVideo(\"rRRNUUyxJ_I\",width=640,height=360, cc_load_policy=True)"
   ]
  },
  {
   "cell_type": "code",
   "execution_count": null,
   "metadata": {},
   "outputs": [],
   "source": [
    "# Git Checkout / Pull Demo https://www.youtube.com/playlist?list=PLqPfbT7gwVP_AlE6HeDQUJsG4nUbGyeh3\n",
    "from IPython.display import YouTubeVideo\n",
    "YouTubeVideo(\"bLHxdHKv1_c\",width=640,height=360, cc_load_policy=True)"
   ]
  },
  {
   "cell_type": "markdown",
   "metadata": {},
   "source": [
    "---\n",
    "<a name=\"Derivatives\"></a>\n",
    "# 3. Derivatives \n",
    "\n",
    "First lets make sure we all remember our basic calculus. \n",
    "\n",
    "&#9989; **<font color=red>QUESTION:</font>**  What is the derivative of the following equation $f(x)$ (note, this is an analytical calculation). \n",
    "\n",
    "$$f(x) = x^2$$"
   ]
  },
  {
   "cell_type": "markdown",
   "metadata": {},
   "source": [
    "**put your answer to the above question here.**"
   ]
  },
  {
   "cell_type": "markdown",
   "metadata": {},
   "source": [
    "If we remember from basic calculus, the derivative of a function is just the rate of change of a function between it's values. Sometimes we don't know the function in it's **analytical** form (i.e. it's form with variables).  instead we just know some data.  \n",
    "<img src=http://res.publicdomainfiles.com/pdf_view/191/14019430817307.png alt=\"clip art of a car\" width=25%>\n",
    "For example, if we know a car is at mile marker 69 at 3:14pm and is at mile marker 240 at 4:36pm we can calculate the average speed (velocity) of the car using the following equation:\n",
    "\n",
    "$$v = \\frac{dx}{dt} = \\frac{240 - 69}{(4*60+36)-(3*60+14)}$$\n",
    "\n",
    "Or, in words, the difference in the position ($dx$) over the difference in time ($dt$) is the the average velocity."
   ]
  },
  {
   "cell_type": "code",
   "execution_count": null,
   "metadata": {
    "scrolled": true
   },
   "outputs": [],
   "source": [
    "(240 - 69)/((4*60+36)-(3*60+14))"
   ]
  },
  {
   "cell_type": "markdown",
   "metadata": {},
   "source": [
    "&#9989; **<font color=red>QUESTION:</font>** What are the units in the above equation?  Is this car going fast or slow?"
   ]
  },
  {
   "cell_type": "markdown",
   "metadata": {},
   "source": [
    "**put your answer to the above question here.**"
   ]
  },
  {
   "cell_type": "markdown",
   "metadata": {},
   "source": [
    "If you think about the above answer, what is the exact velocity at any point in time when the car is driving? It is possible that the car was going slower at some parts and faster during other stretches of the road (i.e. it accelerated and decelerated during the drive).  In order to best estimate the \"instantaneous\" velocity we want to pick very short distances with very small differences in times.\n",
    "\n",
    "So the smaller that you make $\\frac{dx}{dt}$ the better the estimation of the instantaneous velocity.  This is a \"**numerical**\" method for calculating the derivative.\n",
    "\n",
    "&#9989; **<font color=red>DO THIS:</font>** Think about how you might calculate the instantaneous acceleration using a \"**numerical**\" method.  Remember that the acceleration is just the change in velocity over the change in time.  \n",
    "$$a = \\frac{dv}{dt}$$"
   ]
  },
  {
   "cell_type": "markdown",
   "metadata": {},
   "source": [
    "&#9989; **<font color=red>QUESTION:</font>** Why can't we know the acceleration for the above example with the car?  What additional information is needed?"
   ]
  },
  {
   "cell_type": "markdown",
   "metadata": {},
   "source": [
    "**put your answer to the above question here.**"
   ]
  },
  {
   "cell_type": "markdown",
   "metadata": {},
   "source": [
    "---\n",
    "<a name=\"Integrals\"></a>\n",
    "# 4. Integrals\n",
    "\n",
    "Remember from calculus that integrals are sort-of the \"inverse\" of derivatives. \n",
    "\n",
    "&#9989; **<font color=red>QUESTION:</font>**  What is the integral of the following equation $f(x)$ (note, this is also an analytical calculation). \n",
    "\n",
    "$$f(x) = 2x$$"
   ]
  },
  {
   "cell_type": "markdown",
   "metadata": {},
   "source": [
    "**put your answer to the above question here.**"
   ]
  },
  {
   "cell_type": "markdown",
   "metadata": {},
   "source": [
    "### Don't forget the constant\n",
    "In your solution to the above integration did you remember to add the \"constant\" term?  Remember when integrating there are actually multiple possible solutions and you need to add this constant as a reminder of the starting point.  \n",
    "\n",
    "When you took calculus this was probably something that just tacked on to all answers or the instructor would take off points. However, when we do numerical integration this turns out to be an important value.  "
   ]
  },
  {
   "cell_type": "markdown",
   "metadata": {},
   "source": [
    "In the video above we solved an integral using a analytical solution  However, in many problems an \"**analytical**\" solution is difficult (even impossible) to calculate and it is easier to solve an integration problem \"**numerically**\". Here is a reminder of how to solve Integration numerically of an Algebraic equation:"
   ]
  },
  {
   "cell_type": "code",
   "execution_count": null,
   "metadata": {
    "scrolled": false
   },
   "outputs": [],
   "source": [
    "from IPython.display import YouTubeVideo\n",
    "YouTubeVideo(\"JXJQYpgFAyc\",width=640,height=360, cc_load_policy=True)"
   ]
  },
  {
   "cell_type": "markdown",
   "metadata": {},
   "source": [
    "&#9989; **<font color=red>QUESTION:</font>**  Why would we need the numerical integration?"
   ]
  },
  {
   "cell_type": "markdown",
   "metadata": {},
   "source": [
    "**put your answer to the above question here.**"
   ]
  },
  {
   "cell_type": "markdown",
   "metadata": {},
   "source": [
    "----\n",
    "<a name=\"Assignment_wrap-up\"></a>\n",
    "# 5. Assignment wrap-up\n",
    "\n",
    "Please fill out the form that appears when you run the code below.  **You must completely fill this out in order to receive credit for the assignment!**\n",
    "\n",
    "[Direct Link](https://cmse.msu.edu/cmse802-pc-survey)\n",
    "\n",
    "If you have trouble with the embeded form, please make sure you log on with your MSU google account at [googleapps.msu.edu](https://googleapps.msu.edu) and then click on the direct link above."
   ]
  },
  {
   "cell_type": "markdown",
   "metadata": {},
   "source": [
    "&#9989; **<font color=red>Assignment-Specific QUESTION:</font>** Where you able to clone the git repository for this course?  If not, where did you get stuck?"
   ]
  },
  {
   "cell_type": "markdown",
   "metadata": {},
   "source": [
    "Put your answer to the above question here"
   ]
  },
  {
   "cell_type": "markdown",
   "metadata": {},
   "source": [
    "&#9989; **<font color=red>QUESTION:</font>**  Summarize what you did in this assignment."
   ]
  },
  {
   "cell_type": "markdown",
   "metadata": {},
   "source": [
    "Put your answer to the above question here"
   ]
  },
  {
   "cell_type": "markdown",
   "metadata": {},
   "source": [
    "&#9989; **<font color=red>QUESTION:</font>**  What questions do you have, if any, about any of the topics discussed in this assignment after working through the jupyter notebook?"
   ]
  },
  {
   "cell_type": "markdown",
   "metadata": {},
   "source": [
    "Put your answer to the above question here"
   ]
  },
  {
   "cell_type": "markdown",
   "metadata": {},
   "source": [
    "&#9989; **<font color=red>QUESTION:</font>**  How well do you feel this assignment helped you to achieve a better understanding of the above mentioned topic(s)?"
   ]
  },
  {
   "cell_type": "markdown",
   "metadata": {},
   "source": [
    "Put your answer to the above question here"
   ]
  },
  {
   "cell_type": "markdown",
   "metadata": {},
   "source": [
    "&#9989; **<font color=red>QUESTION:</font>** What was the **most** challenging part of this assignment for you? "
   ]
  },
  {
   "cell_type": "markdown",
   "metadata": {},
   "source": [
    "Put your answer to the above question here"
   ]
  },
  {
   "cell_type": "markdown",
   "metadata": {},
   "source": [
    "&#9989; **<font color=red>QUESTION:</font>** What was the **least** challenging part of this assignment for you? "
   ]
  },
  {
   "cell_type": "markdown",
   "metadata": {},
   "source": [
    "Put your answer to the above question here"
   ]
  },
  {
   "cell_type": "markdown",
   "metadata": {},
   "source": [
    "&#9989; **<font color=red>QUESTION:</font>**  What kind of additional questions or support, if any, do you feel you need to have a better understanding of the content in this assignment?"
   ]
  },
  {
   "cell_type": "markdown",
   "metadata": {},
   "source": [
    "Put your answer to the above question here"
   ]
  },
  {
   "cell_type": "markdown",
   "metadata": {},
   "source": [
    "&#9989; **<font color=red>QUESTION:</font>**  Do you have any further questions or comments about this material, or anything else that's going on in class?"
   ]
  },
  {
   "cell_type": "markdown",
   "metadata": {},
   "source": [
    "Put your answer to the above question here"
   ]
  },
  {
   "cell_type": "markdown",
   "metadata": {},
   "source": [
    "&#9989; **<font color=red>QUESTION:</font>** Approximately how long did this pre-class assignment take?"
   ]
  },
  {
   "cell_type": "markdown",
   "metadata": {},
   "source": [
    "Put your answer to the above question here"
   ]
  },
  {
   "cell_type": "code",
   "execution_count": null,
   "metadata": {},
   "outputs": [],
   "source": [
    "from IPython.display import HTML\n",
    "HTML(\n",
    "\"\"\"\n",
    "<iframe \n",
    "\tsrc=\"https://cmse.msu.edu/cmse802-pc-survey\" \n",
    "\twidth=\"100%\" \n",
    "\theight=\"1200px\" \n",
    "\tframeborder=\"0\" \n",
    "\tmarginheight=\"0\" \n",
    "\tmarginwidth=\"0\">\n",
    "\tLoading...\n",
    "</iframe>\n",
    "\"\"\"\n",
    ")"
   ]
  },
  {
   "cell_type": "markdown",
   "metadata": {},
   "source": [
    "---------\n",
    "### Congratulations, we're done!\n",
    "\n",
    "To get credit for this assignment you must fill out and submit the above survey from on or before the assignment due date."
   ]
  },
  {
   "cell_type": "markdown",
   "metadata": {},
   "source": [
    "### Course Resources:\n",
    "\n",
    "\n",
    "- [Website](https://msu-cmse-courses.github.io/cmse802-f20-student/)\n",
    "- [ZOOM](https://msu.zoom.us/j/97272546850)\n",
    "- [Syllabus](https://docs.google.com/document/d/e/2PACX-1vT9Wn11y0ECI_NAUl_2NA8V5jcD8dXKJkqUSWXjlawgqr2gU5hII3IsE0S8-CPd3W4xsWIlPAg2YW7D/pub)\n",
    "- [Schedule](https://docs.google.com/spreadsheets/d/e/2PACX-1vQRAm1mqJPQs1YSLPT9_41ABtywSV2f3EWPon9szguL6wvWqWsqaIzqkuHkSk7sea8ZIcIgZmkKJvwu/pubhtml?gid=2142090757&single=true)\n",
    "\n"
   ]
  },
  {
   "cell_type": "markdown",
   "metadata": {},
   "source": [
    "Writen by Dirk Colbry, Michigan State University\n",
    "<a rel=\"license\" href=\"http://creativecommons.org/licenses/by-nc/4.0/\"><img alt=\"Creative Commons License\" style=\"border-width:0\" src=\"https://i.creativecommons.org/l/by-nc/4.0/88x31.png\" /></a><br />This work is licensed under a <a rel=\"license\" href=\"http://creativecommons.org/licenses/by-nc/4.0/\">Creative Commons Attribution-NonCommercial 4.0 International License</a>."
   ]
  }
 ],
 "metadata": {
  "anaconda-cloud": {},
  "kernelspec": {
   "display_name": "Python 3",
   "language": "python",
   "name": "python3"
  },
  "language_info": {
   "codemirror_mode": {
    "name": "ipython",
    "version": 3
   },
   "file_extension": ".py",
   "mimetype": "text/x-python",
   "name": "python",
   "nbconvert_exporter": "python",
   "pygments_lexer": "ipython3",
   "version": "3.7.6"
  }
 },
 "nbformat": 4,
 "nbformat_minor": 2
}
